{
  "cells": [
    {
      "cell_type": "markdown",
      "metadata": {
        "id": "view-in-github",
        "colab_type": "text"
      },
      "source": [
        "<a href=\"https://colab.research.google.com/github/mateuspadilha1/Analise_de_Pre-os_de_Combustiveis_Brasil/blob/main/trabalho_final_(5).ipynb\" target=\"_parent\"><img src=\"https://colab.research.google.com/assets/colab-badge.svg\" alt=\"Open In Colab\"/></a>"
      ]
    },
    {
      "cell_type": "code",
      "execution_count": 17,
      "id": "6e8c0528",
      "metadata": {
        "_cell_guid": "b1076dfc-b9ad-4769-8c92-a6c4dae69d19",
        "_uuid": "8f2839f25d086af736a60e9eeb907d3b93b6e0e5",
        "execution": {
          "iopub.execute_input": "2022-03-29T14:29:01.953010Z",
          "iopub.status.busy": "2022-03-29T14:29:01.952059Z",
          "iopub.status.idle": "2022-03-29T14:29:03.423443Z",
          "shell.execute_reply": "2022-03-29T14:29:03.424425Z",
          "shell.execute_reply.started": "2022-03-29T14:26:50.850640Z"
        },
        "papermill": {
          "duration": 1.502417,
          "end_time": "2022-03-29T14:29:03.424834",
          "exception": false,
          "start_time": "2022-03-29T14:29:01.922417",
          "status": "completed"
        },
        "tags": [],
        "id": "6e8c0528"
      },
      "outputs": [],
      "source": [
        "# Fazendo os Imports\n",
        "\n",
        "import numpy as np # linear algebra\n",
        "import pandas as pd # data processing, CSV file I/O (e.g. pd.read_csv)\n",
        "import matplotlib.pyplot as plt\n",
        "import seaborn as sns\n",
        "from sklearn import metrics\n",
        "from sklearn.linear_model import LinearRegression\n",
        "from sklearn.metrics import mean_squared_error\n",
        "from sklearn.model_selection import train_test_split\n",
        "import os\n",
        "for dirname, _, filenames in os.walk('/kaggle/input'):\n",
        "    for filename in filenames:\n",
        "        print(os.path.join(dirname, filename))"
      ]
    },
    {
      "cell_type": "code",
      "execution_count": null,
      "id": "f86026fc",
      "metadata": {
        "execution": {
          "iopub.execute_input": "2022-03-29T14:29:03.461424Z",
          "iopub.status.busy": "2022-03-29T14:29:03.460725Z",
          "iopub.status.idle": "2022-03-29T14:29:04.098291Z",
          "shell.execute_reply": "2022-03-29T14:29:04.098880Z",
          "shell.execute_reply.started": "2022-03-29T14:26:52.035090Z"
        },
        "papermill": {
          "duration": 0.658673,
          "end_time": "2022-03-29T14:29:04.099073",
          "exception": false,
          "start_time": "2022-03-29T14:29:03.440400",
          "status": "completed"
        },
        "tags": [],
        "id": "f86026fc"
      },
      "outputs": [],
      "source": [
        "# Importando o DataFrame\n",
        "\n",
        "df = pd.read_csv(\"/content/2004-2021.tsv\",sep=\"\\t\")\n",
        "\n",
        "df.head()"
      ]
    },
    {
      "cell_type": "code",
      "execution_count": null,
      "id": "038f70c1",
      "metadata": {
        "execution": {
          "iopub.execute_input": "2022-03-29T14:29:04.151851Z",
          "iopub.status.busy": "2022-03-29T14:29:04.133562Z",
          "iopub.status.idle": "2022-03-29T14:29:04.197863Z",
          "shell.execute_reply": "2022-03-29T14:29:04.198392Z",
          "shell.execute_reply.started": "2022-03-29T14:26:52.544684Z"
        },
        "papermill": {
          "duration": 0.083541,
          "end_time": "2022-03-29T14:29:04.198614",
          "exception": false,
          "start_time": "2022-03-29T14:29:04.115073",
          "status": "completed"
        },
        "tags": [],
        "id": "038f70c1"
      },
      "outputs": [],
      "source": [
        "df.describe()"
      ]
    },
    {
      "cell_type": "code",
      "execution_count": null,
      "id": "470c38bc",
      "metadata": {
        "execution": {
          "iopub.execute_input": "2022-03-29T14:29:04.234891Z",
          "iopub.status.busy": "2022-03-29T14:29:04.234243Z",
          "iopub.status.idle": "2022-03-29T14:29:05.172515Z",
          "shell.execute_reply": "2022-03-29T14:29:05.171776Z",
          "shell.execute_reply.started": "2022-03-29T14:26:52.610825Z"
        },
        "papermill": {
          "duration": 0.957563,
          "end_time": "2022-03-29T14:29:05.172680",
          "exception": false,
          "start_time": "2022-03-29T14:29:04.215117",
          "status": "completed"
        },
        "tags": [],
        "id": "470c38bc"
      },
      "outputs": [],
      "source": [
        "#Análise de número de postos por Estados em ordem decrescente\n",
        "\n",
        "dfnumpostos = df.groupby(['ESTADO']).max()['NÚMERO DE POSTOS PESQUISADOS']\n",
        "print(dfnumpostos.sort_values(ascending = False))\n",
        "\n",
        "ax = sns.histplot(data=df , x=\"ESTADO\", y=\"NÚMERO DE POSTOS PESQUISADOS\")\n",
        "plt.xticks(rotation=270)\n"
      ]
    },
    {
      "cell_type": "code",
      "execution_count": null,
      "id": "cffb89e4",
      "metadata": {
        "execution": {
          "iopub.execute_input": "2022-03-29T14:29:05.217097Z",
          "iopub.status.busy": "2022-03-29T14:29:05.216004Z",
          "iopub.status.idle": "2022-03-29T14:29:05.257377Z",
          "shell.execute_reply": "2022-03-29T14:29:05.256857Z",
          "shell.execute_reply.started": "2022-03-29T14:26:53.258272Z"
        },
        "papermill": {
          "duration": 0.066322,
          "end_time": "2022-03-29T14:29:05.257532",
          "exception": false,
          "start_time": "2022-03-29T14:29:05.191210",
          "status": "completed"
        },
        "tags": [],
        "id": "cffb89e4"
      },
      "outputs": [],
      "source": [
        "#Análise de preço médio de revenda em ordem decrescente\n",
        "\n",
        "dfpreco = df.query(\"PRODUTO == 'GASOLINA COMUM'\").groupby(['ESTADO']).mean()['PREÇO MÉDIO REVENDA'].sort_values(ascending = False).reset_index()\n",
        "dfpreco.sort_values('PREÇO MÉDIO REVENDA', ascending=False)\n",
        "dfpreco"
      ]
    },
    {
      "cell_type": "code",
      "execution_count": null,
      "id": "7df83db3",
      "metadata": {
        "execution": {
          "iopub.execute_input": "2022-03-29T14:29:05.315999Z",
          "iopub.status.busy": "2022-03-29T14:29:05.315034Z",
          "iopub.status.idle": "2022-03-29T14:29:05.513900Z",
          "shell.execute_reply": "2022-03-29T14:29:05.513323Z",
          "shell.execute_reply.started": "2022-03-29T14:26:53.293478Z"
        },
        "papermill": {
          "duration": 0.236957,
          "end_time": "2022-03-29T14:29:05.514068",
          "exception": false,
          "start_time": "2022-03-29T14:29:05.277111",
          "status": "completed"
        },
        "tags": [],
        "id": "7df83db3"
      },
      "outputs": [],
      "source": [
        "df['PRODUTO'] = df['PRODUTO'].str.replace('OLEO DIESEL S10', 'ÓLEO DIESEL S10')\n",
        "df['PRODUTO'] = df['PRODUTO'].str.replace('OLEO DIESEL', 'ÓLEO DIESEL')\n",
        "df[\"PRODUTO\"].unique()"
      ]
    },
    {
      "cell_type": "code",
      "execution_count": null,
      "id": "13b86b84",
      "metadata": {
        "execution": {
          "iopub.execute_input": "2022-03-29T14:29:05.584484Z",
          "iopub.status.busy": "2022-03-29T14:29:05.578312Z",
          "iopub.status.idle": "2022-03-29T14:29:05.600032Z",
          "shell.execute_reply": "2022-03-29T14:29:05.599458Z",
          "shell.execute_reply.started": "2022-03-29T14:26:53.428501Z"
        },
        "papermill": {
          "duration": 0.066082,
          "end_time": "2022-03-29T14:29:05.600185",
          "exception": false,
          "start_time": "2022-03-29T14:29:05.534103",
          "status": "completed"
        },
        "tags": [],
        "id": "13b86b84"
      },
      "outputs": [],
      "source": [
        "# Preço médio de revenda dos combustiveis \n",
        "dfmediapreco = df.groupby([\"PRODUTO\"]).mean()['PREÇO MÉDIO REVENDA']\n",
        "\n",
        "print(\"Preço Médio de Revenda de 2004 a 2021:\\n\",dfmediapreco)"
      ]
    },
    {
      "cell_type": "code",
      "execution_count": 24,
      "id": "cdd4a0df",
      "metadata": {
        "execution": {
          "iopub.execute_input": "2022-03-29T14:29:05.643599Z",
          "iopub.status.busy": "2022-03-29T14:29:05.642974Z",
          "iopub.status.idle": "2022-03-29T14:29:05.715418Z",
          "shell.execute_reply": "2022-03-29T14:29:05.714822Z",
          "shell.execute_reply.started": "2022-03-29T14:26:53.467156Z"
        },
        "papermill": {
          "duration": 0.095253,
          "end_time": "2022-03-29T14:29:05.715603",
          "exception": false,
          "start_time": "2022-03-29T14:29:05.620350",
          "status": "completed"
        },
        "tags": [],
        "id": "cdd4a0df"
      },
      "outputs": [],
      "source": [
        "df['DATA FINAL'] =  pd.to_datetime(df['DATA FINAL'], format='%Y/%m/%d')\n",
        "df['ANO'] = df['DATA FINAL'].dt.year\n",
        "df['MES'] = df['DATA FINAL'].dt.month\n",
        "df['ANO/MES']=pd.to_datetime({'day': 1,'month': df['MES'],'year': df['ANO']})"
      ]
    },
    {
      "cell_type": "code",
      "execution_count": null,
      "id": "43801094",
      "metadata": {
        "execution": {
          "iopub.execute_input": "2022-03-29T14:29:05.764797Z",
          "iopub.status.busy": "2022-03-29T14:29:05.760139Z",
          "iopub.status.idle": "2022-03-29T14:29:06.274083Z",
          "shell.execute_reply": "2022-03-29T14:29:06.274597Z",
          "shell.execute_reply.started": "2022-03-29T14:26:53.529810Z"
        },
        "papermill": {
          "duration": 0.538812,
          "end_time": "2022-03-29T14:29:06.274800",
          "exception": false,
          "start_time": "2022-03-29T14:29:05.735988",
          "status": "completed"
        },
        "tags": [],
        "id": "43801094"
      },
      "outputs": [],
      "source": [
        "# Análise gráfica do preço médio de revenda dos combustíveis\n",
        "\n",
        "dt1=df.query(\"PRODUTO != 'GLP' & PRODUTO != 'GASOLINA ADITIVADA'\")\n",
        "dt1=dt1[['PRODUTO','ANO/MES','PREÇO MÉDIO REVENDA']].groupby(['PRODUTO','ANO/MES']).mean().sort_values(by=['PRODUTO','ANO/MES'], ascending=True)\n",
        "dt2=dt1.pivot_table(index=['ANO/MES'], columns=['PRODUTO'], values=['PREÇO MÉDIO REVENDA'])\n",
        "dt2.plot(kind='line',figsize=(11,7)).get_legend().set_bbox_to_anchor((1, 1))"
      ]
    },
    {
      "cell_type": "code",
      "execution_count": null,
      "id": "557a261a",
      "metadata": {
        "execution": {
          "iopub.execute_input": "2022-03-29T14:29:06.340319Z",
          "iopub.status.busy": "2022-03-29T14:29:06.329213Z",
          "iopub.status.idle": "2022-03-29T14:29:06.740206Z",
          "shell.execute_reply": "2022-03-29T14:29:06.740722Z",
          "shell.execute_reply.started": "2022-03-29T14:26:53.926903Z"
        },
        "papermill": {
          "duration": 0.442247,
          "end_time": "2022-03-29T14:29:06.740925",
          "exception": false,
          "start_time": "2022-03-29T14:29:06.298678",
          "status": "completed"
        },
        "tags": [],
        "id": "557a261a"
      },
      "outputs": [],
      "source": [
        "# Análise gráfica do preço médio de revenda na Região Sudeste\n",
        "\n",
        "df1=df.query(\"PRODUTO == 'ETANOL HIDRATADO' & REGIÃO=='SUDESTE'\")\n",
        "df1=df1[['ESTADO','ANO/MES','PREÇO MÉDIO REVENDA']].groupby(['ESTADO','ANO/MES']).mean().sort_values(by=['ESTADO','ANO/MES'], ascending=True)\n",
        "df2=df1.pivot_table(index=['ANO/MES'], columns=['ESTADO'], values=['PREÇO MÉDIO REVENDA'])\n",
        "\n",
        "df2.plot(kind='line',figsize=(11,7)).get_legend().set_bbox_to_anchor((1, 1))"
      ]
    },
    {
      "cell_type": "code",
      "execution_count": 27,
      "id": "add4281b",
      "metadata": {
        "execution": {
          "iopub.execute_input": "2022-03-29T14:29:06.799892Z",
          "iopub.status.busy": "2022-03-29T14:29:06.799186Z",
          "iopub.status.idle": "2022-03-29T14:29:06.802054Z",
          "shell.execute_reply": "2022-03-29T14:29:06.801512Z",
          "shell.execute_reply.started": "2022-03-29T14:26:54.239712Z"
        },
        "papermill": {
          "duration": 0.034229,
          "end_time": "2022-03-29T14:29:06.802206",
          "exception": false,
          "start_time": "2022-03-29T14:29:06.767977",
          "status": "completed"
        },
        "tags": [],
        "id": "add4281b"
      },
      "outputs": [],
      "source": [
        "np.random.seed(100)"
      ]
    },
    {
      "cell_type": "code",
      "execution_count": 28,
      "id": "3e04b78c",
      "metadata": {
        "execution": {
          "iopub.execute_input": "2022-03-29T14:29:06.857919Z",
          "iopub.status.busy": "2022-03-29T14:29:06.857245Z",
          "iopub.status.idle": "2022-03-29T14:29:06.881326Z",
          "shell.execute_reply": "2022-03-29T14:29:06.881899Z",
          "shell.execute_reply.started": "2022-03-29T14:26:54.245093Z"
        },
        "papermill": {
          "duration": 0.053974,
          "end_time": "2022-03-29T14:29:06.882108",
          "exception": false,
          "start_time": "2022-03-29T14:29:06.828134",
          "status": "completed"
        },
        "tags": [],
        "id": "3e04b78c"
      },
      "outputs": [],
      "source": [
        "# Treino e Teste\n",
        "\n",
        "dfgascomum = df.query('PRODUTO ==\"GASOLINA COMUM\"')\n",
        "\n",
        "X = dfgascomum.drop(['PREÇO MÉDIO REVENDA','DATA INICIAL','DATA FINAL','REGIÃO', 'ESTADO','PRODUTO','UNIDADE DE MEDIDA','MARGEM MÉDIA REVENDA','PREÇO MÉDIO DISTRIBUIÇÃO','DESVIO PADRÃO DISTRIBUIÇÃO','PREÇO MÍNIMO DISTRIBUIÇÃO','PREÇO MÁXIMO DISTRIBUIÇÃO','COEF DE VARIAÇÃO DISTRIBUIÇÃO','ANO/MES'], axis=1)\n",
        "\n",
        "y = dfgascomum['PREÇO MÉDIO REVENDA']\n",
        "\n",
        "X_train, X_test, y_train, y_test = train_test_split(X, y,random_state = 42,test_size=0.30)"
      ]
    },
    {
      "cell_type": "code",
      "execution_count": null,
      "id": "2bace436",
      "metadata": {
        "execution": {
          "iopub.execute_input": "2022-03-29T14:29:06.943098Z",
          "iopub.status.busy": "2022-03-29T14:29:06.941412Z",
          "iopub.status.idle": "2022-03-29T14:29:06.978708Z",
          "shell.execute_reply": "2022-03-29T14:29:06.979624Z",
          "shell.execute_reply.started": "2022-03-29T14:26:54.271841Z"
        },
        "papermill": {
          "duration": 0.071735,
          "end_time": "2022-03-29T14:29:06.979936",
          "exception": false,
          "start_time": "2022-03-29T14:29:06.908201",
          "status": "completed"
        },
        "tags": [],
        "id": "2bace436"
      },
      "outputs": [],
      "source": [
        "# Criando o objeto reg_all\n",
        "reg_all = LinearRegression()\n",
        "\n",
        "# Aplicando aos dados\n",
        "reg_all.fit(X_train, y_train)\n",
        "\n",
        "# Predicao\n",
        "y_pred = reg_all.predict(X_test)\n",
        "\n",
        "#  R^2 and RMSE\n",
        "print(\"R^2: {}\".format(reg_all.score(X_test, y_test)))\n",
        "rmse = np.sqrt(mean_squared_error(y_test, y_pred))\n",
        "print(\"Root Mean Squared Error: {}\".format(rmse))\n",
        "print('Mean Absolute Error:', metrics.mean_absolute_error(y_test, y_pred))\n",
        "print('Mean Squared Error:', metrics.mean_squared_error(y_test, y_pred))"
      ]
    }
  ],
  "metadata": {
    "kernelspec": {
      "display_name": "Python 3",
      "language": "python",
      "name": "python3"
    },
    "language_info": {
      "codemirror_mode": {
        "name": "ipython",
        "version": 3
      },
      "file_extension": ".py",
      "mimetype": "text/x-python",
      "name": "python",
      "nbconvert_exporter": "python",
      "pygments_lexer": "ipython3",
      "version": "3.7.12"
    },
    "papermill": {
      "default_parameters": {},
      "duration": 16.194167,
      "end_time": "2022-03-29T14:29:07.843859",
      "environment_variables": {},
      "exception": null,
      "input_path": "__notebook__.ipynb",
      "output_path": "__notebook__.ipynb",
      "parameters": {},
      "start_time": "2022-03-29T14:28:51.649692",
      "version": "2.3.3"
    },
    "colab": {
      "name": "trabalho-final (4).ipynb",
      "provenance": [],
      "collapsed_sections": [],
      "include_colab_link": true
    }
  },
  "nbformat": 4,
  "nbformat_minor": 5
}